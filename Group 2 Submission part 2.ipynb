{
 "cells": [
  {
   "cell_type": "code",
   "execution_count": 27,
   "metadata": {},
   "outputs": [],
   "source": [
    "# Model prediction using LogisticRegression with upsampling and using liblinear with predict proba\n",
    "\n",
    "# Import all necessary packages\n",
    "import pandas as pd\n",
    "import numpy as np\n",
    "from sklearn.metrics import roc_auc_score\n",
    "from joblib import load\n",
    "from sklearn.metrics import confusion_matrix\n",
    "import matplotlib.pyplot as plt\n",
    "from sklearn.metrics import plot_confusion_matrix\n",
    "from sklearn.metrics import classification_report"
   ]
  },
  {
   "cell_type": "code",
   "execution_count": 28,
   "metadata": {},
   "outputs": [],
   "source": [
    "# Load the neccessary dataframe from the csv files\n",
    "test = pd.read_csv(\"test.csv\")"
   ]
  },
  {
   "cell_type": "code",
   "execution_count": 29,
   "metadata": {},
   "outputs": [],
   "source": [
    "# import the model\n",
    "\n",
    "reg = load('LogisticRegression_upsampling_liblinear_predict_proba_1.joblib')"
   ]
  },
  {
   "cell_type": "code",
   "execution_count": 30,
   "metadata": {},
   "outputs": [],
   "source": [
    "# export necessary dataset to use by second notebooks\n",
    "\n",
    "X_train = pd.read_csv('X_train.csv')\n",
    "X_val = pd.read_csv('X_val.csv')\n",
    "y_train = pd.read_csv('y_train.csv')\n",
    "y_val = pd.read_csv('y_val.csv')"
   ]
  },
  {
   "cell_type": "code",
   "execution_count": 31,
   "metadata": {},
   "outputs": [],
   "source": [
    "# predictions probability\n",
    "y_train_preds = reg.predict_proba(X_train)[:,1]\n",
    "y_val_preds = reg.predict_proba(X_val)[:,1]"
   ]
  },
  {
   "cell_type": "code",
   "execution_count": 32,
   "metadata": {},
   "outputs": [
    {
     "name": "stdout",
     "output_type": "stream",
     "text": [
      "Train AUROC score: 0.7066710289404331\n",
      "Validation AUROC score: 0.7047796299293305\n"
     ]
    }
   ],
   "source": [
    "# AUROC scores\n",
    "print('Train AUROC score:',roc_auc_score(y_train,y_train_preds))\n",
    "print('Validation AUROC score:', roc_auc_score(y_val,y_val_preds))"
   ]
  },
  {
   "cell_type": "code",
   "execution_count": 33,
   "metadata": {},
   "outputs": [
    {
     "data": {
      "text/plain": [
       "array([[3557, 1780],\n",
       "       [1939, 3394]])"
      ]
     },
     "execution_count": 33,
     "metadata": {},
     "output_type": "execute_result"
    }
   ],
   "source": [
    "# Do a confusion matrix on the train sets\n",
    "confusion_matrix(y_train, y_train_preds.round())"
   ]
  },
  {
   "cell_type": "code",
   "execution_count": 34,
   "metadata": {},
   "outputs": [
    {
     "data": {
      "image/png": "[encoded data removed]",
      "text/plain": [
       "<Figure size 432x288 with 2 Axes>"
      ]
     },
     "metadata": {
      "needs_background": "light"
     },
     "output_type": "display_data"
    }
   ],
   "source": [
    "# plot the confusion matrix by counts\n",
    "plot_confusion_matrix(reg, X_train, y_train)\n",
    "plt.show()"
   ]
  },
  {
   "cell_type": "code",
   "execution_count": 35,
   "metadata": {},
   "outputs": [
    {
     "data": {
      "image/png": "[encoded data removed]",
      "text/plain": [
       "<Figure size 432x288 with 2 Axes>"
      ]
     },
     "metadata": {
      "needs_background": "light"
     },
     "output_type": "display_data"
    }
   ],
   "source": [
    "# plot the same confusion matrix based on % of prediction\n",
    "plot_confusion_matrix(reg, X_train, y_train, normalize=\"pred\")\n",
    "plt.show()"
   ]
  },
  {
   "cell_type": "code",
   "execution_count": 36,
   "metadata": {},
   "outputs": [
    {
     "data": {
      "image/png": "[encoded data removed]",
      "text/plain": [
       "<Figure size 432x288 with 2 Axes>"
      ]
     },
     "metadata": {
      "needs_background": "light"
     },
     "output_type": "display_data"
    }
   ],
   "source": [
    "# Now do a confusion matrix on the validation sets\n",
    "plot_confusion_matrix(reg, X_val, y_val, normalize=\"pred\")\n",
    "plt.show()"
   ]
  },
  {
   "cell_type": "code",
   "execution_count": 37,
   "metadata": {},
   "outputs": [
    {
     "name": "stdout",
     "output_type": "stream",
     "text": [
      "              precision    recall  f1-score   support\n",
      "\n",
      "           0       0.65      0.67      0.66      5337\n",
      "           1       0.66      0.64      0.65      5333\n",
      "\n",
      "    accuracy                           0.65     10670\n",
      "   macro avg       0.65      0.65      0.65     10670\n",
      "weighted avg       0.65      0.65      0.65     10670\n",
      "\n"
     ]
    }
   ],
   "source": [
    "# Do a classification report on the train sets\n",
    "print(classification_report(y_train, y_train_preds.round()))"
   ]
  },
  {
   "cell_type": "code",
   "execution_count": 38,
   "metadata": {},
   "outputs": [
    {
     "name": "stdout",
     "output_type": "stream",
     "text": [
      "              precision    recall  f1-score   support\n",
      "\n",
      "           0       0.64      0.68      0.66      1332\n",
      "           1       0.66      0.61      0.64      1336\n",
      "\n",
      "    accuracy                           0.65      2668\n",
      "   macro avg       0.65      0.65      0.65      2668\n",
      "weighted avg       0.65      0.65      0.65      2668\n",
      "\n"
     ]
    }
   ],
   "source": [
    "# Do a classification report on the validation sets\n",
    "print(classification_report(y_val, y_val_preds.round()))"
   ]
  },
  {
   "cell_type": "code",
   "execution_count": 39,
   "metadata": {},
   "outputs": [],
   "source": [
    "# Use the model to predict on the test sets and prepare submission\n",
    "y_test_preds = reg.predict_proba(test)[:,1]"
   ]
  },
  {
   "cell_type": "code",
   "execution_count": 40,
   "metadata": {},
   "outputs": [
    {
     "name": "stdout",
     "output_type": "stream",
     "text": [
      "[]\n",
      "[]\n"
     ]
    }
   ],
   "source": [
    "# check if there is out of binary values\n",
    "print(list(y_test_preds[y_test_preds > 1]))\n",
    "print(list(y_test_preds[y_test_preds < 0]))"
   ]
  },
  {
   "cell_type": "code",
   "execution_count": 38,
   "metadata": {},
   "outputs": [],
   "source": [
    "# Export the prediction for submission\n",
    "submission = pd.DataFrame({'Id':test['Id'],'TARGET_5Yrs':y_test_preds})\n",
    "submission.to_csv('submission_week_2_9.csv',index=False)"
   ]
  }
 ],
 "metadata": {
  "kernelspec": {
   "display_name": "Python 3",
   "language": "python",
   "name": "python3"
  },
  "language_info": {
   "codemirror_mode": {
    "name": "ipython",
    "version": 3
   },
   "file_extension": ".py",
   "mimetype": "text/x-python",
   "name": "python",
   "nbconvert_exporter": "python",
   "pygments_lexer": "ipython3",
   "version": "3.7.6"
  }
 },
 "nbformat": 4,
 "nbformat_minor": 4
}
